{
 "cells": [
  {
   "cell_type": "code",
   "execution_count": 46,
   "id": "1de4fcdb-6936-49d5-82a5-3f48ab1a1d1d",
   "metadata": {},
   "outputs": [],
   "source": [
    "import numpy as np\n",
    "import matplotlib.pyplot as plt\n",
    "from sklearn.preprocessing import LabelEncoder\n",
    "from sklearn.svm import SVC\n",
    "from sklearn.metrics import classification_report\n",
    "from tensorflow.keras.datasets import cifar10"
   ]
  },
  {
   "cell_type": "code",
   "execution_count": 47,
   "id": "1ea0145d-0d5a-4dac-a07d-ff0c90d99918",
   "metadata": {},
   "outputs": [],
   "source": [
    "(X_train, y_train), (X_test, y_test) = cifar10.load_data()"
   ]
  },
  {
   "cell_type": "code",
   "execution_count": 48,
   "id": "25511e7c-a246-4edf-b211-a4c74e9015da",
   "metadata": {},
   "outputs": [],
   "source": [
    "y_train = y_train.flatten()\n",
    "y_test = y_test.flatten()"
   ]
  },
  {
   "cell_type": "code",
   "execution_count": 49,
   "id": "e404c38b-4d8a-4f87-90dc-b833abcd56ac",
   "metadata": {},
   "outputs": [],
   "source": [
    "train_filter = np.isin(y_train, [3, 5])\n",
    "test_filter = np.isin(y_test, [3, 5])"
   ]
  },
  {
   "cell_type": "code",
   "execution_count": 50,
   "id": "bfe86d25-4572-4a0b-9feb-90e562787b30",
   "metadata": {},
   "outputs": [],
   "source": [
    "X_train, y_train = X_train[train_filter], y_train[train_filter]\n",
    "X_test, y_test = X_test[test_filter], y_test[test_filter]"
   ]
  },
  {
   "cell_type": "code",
   "execution_count": 51,
   "id": "96adaf15-bba4-4018-b059-6d548d7869c5",
   "metadata": {},
   "outputs": [],
   "source": [
    "X_train = X_train.reshape(-1, 32*32*3).astype('float32') / 255.0\n",
    "X_test = X_test.reshape(-1, 32*32*3).astype('float32') / 255.0"
   ]
  },
  {
   "cell_type": "code",
   "execution_count": 52,
   "id": "36b1a175-4e5a-49e5-8560-dcf860d9334d",
   "metadata": {},
   "outputs": [],
   "source": [
    "le = LabelEncoder()\n",
    "y_train = le.fit_transform(y_train)\n",
    "y_test = le.transform(y_test)"
   ]
  },
  {
   "cell_type": "code",
   "execution_count": 53,
   "id": "4c7283a0-b241-4f51-aec0-253e9c3c5201",
   "metadata": {},
   "outputs": [],
   "source": [
    "svm = SVC(kernel='linear', random_state=42)"
   ]
  },
  {
   "cell_type": "code",
   "execution_count": 54,
   "id": "eded3599-025f-427c-b1a8-c7e25b1203c2",
   "metadata": {},
   "outputs": [
    {
     "name": "stdout",
     "output_type": "stream",
     "text": [
      "X_train shape: (10000, 3072)\n"
     ]
    }
   ],
   "source": [
    "print(\"X_train shape:\", X_train.shape)"
   ]
  },
  {
   "cell_type": "code",
   "execution_count": 55,
   "id": "549363ec-ea12-4fc2-b81c-ff9b612de9f0",
   "metadata": {},
   "outputs": [
    {
     "name": "stdout",
     "output_type": "stream",
     "text": [
      "Training smaller SVM...\n",
      "Training complete.\n"
     ]
    }
   ],
   "source": [
    "X_train_small = X_train[:200]\n",
    "y_train_small = y_train[:200]\n",
    "\n",
    "print(\"Training smaller SVM...\")\n",
    "svm = SVC(kernel='linear', random_state=42)\n",
    "svm.fit(X_train_small, y_train_small)\n",
    "print(\"Training complete.\")"
   ]
  },
  {
   "cell_type": "code",
   "execution_count": 56,
   "id": "43813f5c-f7c4-4884-873a-7e9e8767eba0",
   "metadata": {},
   "outputs": [],
   "source": [
    "svm = SVC(kernel='linear', random_state=42, verbose=True)"
   ]
  },
  {
   "cell_type": "code",
   "execution_count": 57,
   "id": "969071a7-2dab-462b-be47-5f5f6aa2c511",
   "metadata": {},
   "outputs": [
    {
     "name": "stdout",
     "output_type": "stream",
     "text": [
      "Training SVM on 300 samples...\n",
      "✅ Training complete.\n"
     ]
    }
   ],
   "source": [
    "from sklearn.svm import SVC\n",
    "\n",
    "# Use only the first 300 samples to make it run faster\n",
    "X_small = X_train[:300]\n",
    "y_small = y_train[:300]\n",
    "\n",
    "print(\"Training SVM on 300 samples...\")\n",
    "svm = SVC(kernel='linear', random_state=42)\n",
    "svm.fit(X_small, y_small)\n",
    "print(\"✅ Training complete.\")"
   ]
  },
  {
   "cell_type": "code",
   "execution_count": 58,
   "id": "5a5dbb01-ef44-4489-8a78-3f944fc493ae",
   "metadata": {},
   "outputs": [
    {
     "name": "stdout",
     "output_type": "stream",
     "text": [
      "Training fast LinearSVC...\n",
      "Predicting...\n",
      "✅ Prediction complete.\n"
     ]
    }
   ],
   "source": [
    "from sklearn.svm import LinearSVC\n",
    "\n",
    "print(\"Training fast LinearSVC...\")\n",
    "svm = LinearSVC(max_iter=10000, random_state=42)\n",
    "svm.fit(X_train, y_train)\n",
    "\n",
    "print(\"Predicting...\")\n",
    "y_pred = svm.predict(X_test)\n",
    "print(\"✅ Prediction complete.\")"
   ]
  },
  {
   "cell_type": "code",
   "execution_count": 59,
   "id": "7b8e2fa5-0959-4957-94ff-770875cb118a",
   "metadata": {},
   "outputs": [
    {
     "name": "stdout",
     "output_type": "stream",
     "text": [
      "\n",
      "🎯 Classification Report:\n",
      "\n",
      "              precision    recall  f1-score   support\n",
      "\n",
      "         cat       0.57      0.56      0.57      1000\n",
      "         dog       0.57      0.57      0.57      1000\n",
      "\n",
      "    accuracy                           0.57      2000\n",
      "   macro avg       0.57      0.57      0.57      2000\n",
      "weighted avg       0.57      0.57      0.57      2000\n",
      "\n"
     ]
    }
   ],
   "source": [
    "target_names = ['cat', 'dog']\n",
    "print(\"\\n🎯 Classification Report:\\n\")\n",
    "print(classification_report(y_test, y_pred, target_names=target_names))"
   ]
  },
  {
   "cell_type": "code",
   "execution_count": 61,
   "id": "6edc6be1-ff11-490e-905c-95cdd7a6cc3e",
   "metadata": {},
   "outputs": [],
   "source": [
    "cat_indices = np.where(y_test == 0)[0]\n",
    "dog_indices = np.where(y_test == 1)[0]"
   ]
  },
  {
   "cell_type": "code",
   "execution_count": 62,
   "id": "247daa8d-35c0-4cbe-8e7b-072482a66982",
   "metadata": {},
   "outputs": [],
   "source": [
    "cat_samples = np.random.choice(cat_indices, 2, replace=False)\n",
    "dog_samples = np.random.choice(dog_indices, 2, replace=False)"
   ]
  },
  {
   "cell_type": "code",
   "execution_count": 63,
   "id": "2dc86b80-32ce-4295-a292-5646d052d974",
   "metadata": {},
   "outputs": [],
   "source": [
    "selected_indices = np.concatenate([cat_samples, dog_samples])"
   ]
  },
  {
   "cell_type": "code",
   "execution_count": 64,
   "id": "d48740d2-3698-4acb-8799-8d351951924d",
   "metadata": {},
   "outputs": [
    {
     "data": {
      "image/png": "[encoded data removed]",
      "text/plain": [
       "<Figure size 640x480 with 1 Axes>"
      ]
     },
     "metadata": {},
     "output_type": "display_data"
    },
    {
     "data": {
      "image/png": "[encoded data removed]",
      "text/plain": [
       "<Figure size 640x480 with 1 Axes>"
      ]
     },
     "metadata": {},
     "output_type": "display_data"
    },
    {
     "data": {
      "image/png": "[encoded data removed]",
      "text/plain": [
       "<Figure size 640x480 with 1 Axes>"
      ]
     },
     "metadata": {},
     "output_type": "display_data"
    },
    {
     "data": {
      "image/png": "[encoded data removed]",
      "text/plain": [
       "<Figure size 640x480 with 1 Axes>"
      ]
     },
     "metadata": {},
     "output_type": "display_data"
    }
   ],
   "source": [
    "for i in selected_indices:\n",
    "    plt.imshow(X_test[i].reshape(32, 32, 3))\n",
    "    plt.title(f\"Pred: {target_names[y_pred[i]]} | True: {target_names[y_test[i]]}\")\n",
    "    plt.axis('off')\n",
    "    plt.show()"
   ]
  },
  {
   "cell_type": "code",
   "execution_count": null,
   "id": "9b64f3ff-2e37-401b-a086-54f4642f0f2a",
   "metadata": {},
   "outputs": [],
   "source": []
  },
  {
   "cell_type": "code",
   "execution_count": null,
   "id": "285fe3c7-4584-4730-8043-631164dd49ef",
   "metadata": {},
   "outputs": [],
   "source": []
  },
  {
   "cell_type": "code",
   "execution_count": null,
   "id": "f8c6cd4c-bc7b-4561-88dd-7a65a75a9585",
   "metadata": {},
   "outputs": [],
   "source": []
  }
 ],
 "metadata": {
  "kernelspec": {
   "display_name": "Python 3 (ipykernel)",
   "language": "python",
   "name": "python3"
  },
  "language_info": {
   "codemirror_mode": {
    "name": "ipython",
    "version": 3
   },
   "file_extension": ".py",
   "mimetype": "text/x-python",
   "name": "python",
   "nbconvert_exporter": "python",
   "pygments_lexer": "ipython3",
   "version": "3.10.6"
  }
 },
 "nbformat": 4,
 "nbformat_minor": 5
}
